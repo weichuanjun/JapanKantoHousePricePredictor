{
 "cells": [
  {
   "cell_type": "code",
   "execution_count": null,
   "metadata": {},
   "outputs": [],
   "source": [
    "#公寓\n",
    "import pandas as pd\n",
    "df = pd.read_csv(\"../DATA//masion/Tokyo_20053_20234.csv\",encoding=\"cp932\",on_bad_lines='skip')\n",
    "df2 = pd.read_csv(\"../DATA/masion/Kanagawa Prefecture_20053_20234.csv\",encoding=\"cp932\",on_bad_lines='skip')\n",
    "\n",
    "df3 = pd.read_csv(\"../DATA/masion/Saitama Prefecture_20053_20234.csv\",encoding=\"cp932\",on_bad_lines='skip')\n",
    "\n",
    "df4 =pd.read_csv(\"../DATA/masion/Chiba Prefecture_20053_20234.csv\",encoding=\"cp932\",on_bad_lines='skip')"
   ]
  },
  {
   "cell_type": "code",
   "execution_count": 1,
   "metadata": {},
   "outputs": [
    {
     "name": "stderr",
     "output_type": "stream",
     "text": [
      "/var/folders/q7/54zdqqsd2k97cjf5y4lqxf_00000gn/T/ipykernel_5258/1334577358.py:3: DtypeWarning: Columns (10) have mixed types. Specify dtype option on import or set low_memory=False.\n",
      "  df = pd.read_csv(\"../DATA//masion/Tokyo_20053_20234.csv\",encoding=\"cp932\",on_bad_lines='skip')\n"
     ]
    }
   ],
   "source": [
    "#一户建\n",
    "import pandas as pd\n",
    "df = pd.read_csv(\"../DATA//masion/Tokyo_20053_20234.csv\",encoding=\"cp932\",on_bad_lines='skip')\n",
    "df2 = pd.read_csv(\"../DATA/masion/Kanagawa Prefecture_20053_20234.csv\",encoding=\"cp932\",on_bad_lines='skip')\n",
    "\n",
    "df3 = pd.read_csv(\"../DATA/masion/Saitama Prefecture_20053_20234.csv\",encoding=\"cp932\",on_bad_lines='skip')\n",
    "\n",
    "df4 =pd.read_csv(\"../DATA/masion/Chiba Prefecture_20053_20234.csv\",encoding=\"cp932\",on_bad_lines='skip')"
   ]
  },
  {
   "cell_type": "code",
   "execution_count": null,
   "metadata": {},
   "outputs": [],
   "source": [
    "df = pd.concat([df, df2, df3, df4], axis=0)"
   ]
  },
  {
   "cell_type": "code",
   "execution_count": null,
   "metadata": {},
   "outputs": [],
   "source": [
    "filtered_df['改装'].fillna(\"未知\", inplace=True)"
   ]
  },
  {
   "cell_type": "code",
   "execution_count": null,
   "metadata": {},
   "outputs": [],
   "source": [
    "# 打开一个文件来写入结果\n",
    "with open(\"unique_values.txt\", \"w\", encoding=\"utf-8\") as file:\n",
    "    # 获取每一列的唯一值并写入文件\n",
    "    for column in selected_data.columns:\n",
    "        unique_values = selected_data[column].unique()\n",
    "        file.write(f\"Column '{column}' has {len(unique_values)} unique values:\\n\")\n",
    "        file.write(\", \".join(map(str, unique_values)))  # 写入所有唯一值\n",
    "        file.write(\"\\n\\n\")\n",
    "\n",
    "print(\"Unique values have been written to unique_values.txt\")"
   ]
  },
  {
   "cell_type": "markdown",
   "metadata": {},
   "source": [
    "筛选出“住宅”或“共同住宅”的项目和宅地"
   ]
  },
  {
   "cell_type": "code",
   "execution_count": 2,
   "metadata": {},
   "outputs": [],
   "source": [
    "# 筛选出“住宅”或“共同住宅”的项目\n",
    "def contains_residential(x):\n",
    "    if pd.isna(x):\n",
    "        return False\n",
    "    return '住宅' in x or '共同住宅' in x\n",
    "\n",
    "# 使用apply方法来筛选数据\n",
    "filtered_df = df[df['用途'].apply(contains_residential)]\n",
    "filtered_df = filtered_df .query('種類 == \"宅地(土地と建物)\"')"
   ]
  },
  {
   "cell_type": "code",
   "execution_count": null,
   "metadata": {},
   "outputs": [],
   "source": [
    "for col in data.columns:\n",
    "    print(f\"Column: {col}\")\n",
    "    print(data[col].head())"
   ]
  },
  {
   "cell_type": "code",
   "execution_count": 3,
   "metadata": {},
   "outputs": [],
   "source": [
    "# 定义要删除的关键词列表\n",
    "keywords = ['調停・競売', '瑕疵有りの可能性', '古屋付き・取壊し前提']\n",
    "\n",
    "# 检查 '取引の事情等' 列中的文本是否包含任何关键词\n",
    "mask = df['取引の事情等'].str.contains('|'.join(keywords), na=False)\n",
    "\n",
    "# 删除包含这些关键词的行\n",
    "df = df[~mask]"
   ]
  },
  {
   "cell_type": "code",
   "execution_count": null,
   "metadata": {},
   "outputs": [],
   "source": [
    "filtered_df['延床面積（㎡）'].unique()"
   ]
  },
  {
   "cell_type": "markdown",
   "metadata": {},
   "source": [
    "选择特征"
   ]
  },
  {
   "cell_type": "code",
   "execution_count": null,
   "metadata": {},
   "outputs": [],
   "source": [
    "#train用masion\n",
    "selected_columns = ['最寄駅：距離（分）', '取引価格（総額）', '面積（㎡）','建築年', '建物の構造','都道府県名','市区町村名','地区名','取引時期','間取り','最寄駅：名称','改装']\n",
    "columns_order = [ '取引時期','取引価格（総額）','最寄駅：名称','最寄駅：距離（分）', '面積（㎡）', '建物の構造','間取り','建築年','改装' ]\n",
    "filtered_df = df[columns_order]"
   ]
  },
  {
   "cell_type": "code",
   "execution_count": null,
   "metadata": {},
   "outputs": [],
   "source": [
    "#web用masion\n",
    "selected_columns = ['最寄駅：距離（分）', '取引価格（総額）', '面積（㎡）','建築年', '建物の構造','地区名','取引時期','間取り','最寄駅：名称','改装']\n",
    "columns_order = [ '取引時期','取引価格（総額）','地区名' ,'最寄駅：名称','最寄駅：距離（分）', '面積（㎡）', '建物の構造','間取り','建築年','改装']\n",
    "filtered_df = df[columns_order]"
   ]
  },
  {
   "cell_type": "code",
   "execution_count": null,
   "metadata": {},
   "outputs": [],
   "source": [
    "filtered_df.info()"
   ]
  },
  {
   "cell_type": "code",
   "execution_count": null,
   "metadata": {},
   "outputs": [],
   "source": [
    "filtered_df.to_csv('../DATA/exported_data_house.csv', index=False, encoding='utf-8')"
   ]
  },
  {
   "cell_type": "code",
   "execution_count": null,
   "metadata": {},
   "outputs": [],
   "source": [
    "#训练用\n",
    "selected_columns = ['最寄駅：距離（分）', '取引価格（総額）', '面積（㎡）','建築年', '建物の構造','地区名','取引時期','土地の形状','延床面積（㎡）']\n",
    "columns_order = [ '取引時期','取引価格（総額）','最寄駅：距離（分）', '面積（㎡）', '建築年', '建物の構造', '地区名', '建ぺい率（％）', '容積率（％）']\n",
    "filtered_df = filtered_df[columns_order]"
   ]
  },
  {
   "cell_type": "code",
   "execution_count": null,
   "metadata": {},
   "outputs": [],
   "source": []
  },
  {
   "cell_type": "markdown",
   "metadata": {},
   "source": [
    "提取建筑年份的年份部分并转换为整数\n",
    "增加建筑年数项目"
   ]
  },
  {
   "cell_type": "code",
   "execution_count": null,
   "metadata": {},
   "outputs": [],
   "source": [
    "from datetime import datetime\n",
    "# 提取建筑年份的年份部分并转换为整数\n",
    "filtered_df['建築年'] = filtered_df['建築年'].str.extract('(\\d+)')\n",
    "# filtered_df = filtered_df.dropna()\n",
    "filtered_df['建築年'] = filtered_df['建築年'].astype(int)\n",
    "\n",
    "filtered_df['建築年数'] = filtered_df['取引時期'] - filtered_df['建築年']"
   ]
  },
  {
   "cell_type": "markdown",
   "metadata": {},
   "source": [
    "修改距离和面积的异常值"
   ]
  },
  {
   "cell_type": "code",
   "execution_count": null,
   "metadata": {},
   "outputs": [],
   "source": [
    "distance_mapping = {\n",
    "    '30分～60分': 30,\n",
    "    '1H～1H30': 60,\n",
    "    '1H30～2H': 90,\n",
    "    '2H～': 120,\n",
    "    '2,000㎡以上': 120\n",
    "}\n",
    "\n",
    "# 将文本值映射成数字\n",
    "filtered_df['最寄駅：距離（分）'] = filtered_df['最寄駅：距離（分）'].map(lambda x: distance_mapping[x] if x in distance_mapping else int(x))\n",
    "\n",
    "# 定义映射关系\n",
    "distance_mapping = {\n",
    "    '2,000㎡以上': 2000\n",
    "}\n",
    "# 将文本值映射成数字\n",
    "filtered_df['面積（㎡）'] = filtered_df['面積（㎡）'].map(lambda x: distance_mapping[x] if x in distance_mapping else int(x))\n",
    "\n",
    "# # 定义映射关系\n",
    "# distance_mapping = {\n",
    "#     '2,000㎡以上': 2000,\n",
    "#         '10㎡未満':9\n",
    "# }\n",
    "# # 将文本值映射成数字\n",
    "# filtered_df['延床面積（㎡）'] = filtered_df['延床面積（㎡）'].map(lambda x: distance_mapping[x] if x in distance_mapping else int(x))\n"
   ]
  },
  {
   "cell_type": "markdown",
   "metadata": {},
   "source": [
    "修改取引時期的格式"
   ]
  },
  {
   "cell_type": "code",
   "execution_count": null,
   "metadata": {},
   "outputs": [],
   "source": [
    "def convert_quarter(quarter_str):\n",
    "    year = int(quarter_str[:4])\n",
    "    quarter = quarter_str[-4]\n",
    "    month = str(int(quarter) * 3)\n",
    "    return int(f\"{year}\")\n",
    "\n",
    "# 应用转换函数\n",
    "filtered_df['转换后日期'] = filtered_df['取引時期'].apply(convert_quarter)\n",
    "filtered_df.drop('取引時期',axis=1)\n",
    "filtered_df['取引時期'] = filtered_df['转换后日期']\n",
    "filtered_df = filtered_df.drop('转换后日期',axis=1)"
   ]
  },
  {
   "cell_type": "code",
   "execution_count": null,
   "metadata": {},
   "outputs": [],
   "source": [
    "# filtered_df.to_csv('../exported_data.csv', index=False, encoding='utf-8')"
   ]
  },
  {
   "cell_type": "code",
   "execution_count": null,
   "metadata": {},
   "outputs": [],
   "source": [
    "selected_data = filtered_df[(filtered_df['取引価格（総額）'] > 100000) & (filtered_df['取引価格（総額）'] <= 150000000)]"
   ]
  },
  {
   "cell_type": "code",
   "execution_count": null,
   "metadata": {},
   "outputs": [],
   "source": [
    "selected_data = selected_data[selected_data['最寄駅：距離（分）'] < 40]"
   ]
  },
  {
   "cell_type": "code",
   "execution_count": null,
   "metadata": {},
   "outputs": [],
   "source": [
    "selected_data = selected_data[selected_data['面積（㎡）'] < 200]"
   ]
  },
  {
   "cell_type": "code",
   "execution_count": null,
   "metadata": {},
   "outputs": [],
   "source": [
    "selected_data.info()"
   ]
  },
  {
   "cell_type": "code",
   "execution_count": null,
   "metadata": {},
   "outputs": [],
   "source": [
    "current_year = datetime.now().year\n",
    "selected_data['建築年数'] = current_year - selected_data['建築年']"
   ]
  },
  {
   "cell_type": "code",
   "execution_count": null,
   "metadata": {},
   "outputs": [],
   "source": [
    "selected_data = selected_data[selected_data['建築年数'] < 65]"
   ]
  },
  {
   "cell_type": "code",
   "execution_count": null,
   "metadata": {},
   "outputs": [],
   "source": [
    "selected_data = selected_data[selected_data['取引時期'] > 2012]"
   ]
  },
  {
   "cell_type": "code",
   "execution_count": null,
   "metadata": {},
   "outputs": [],
   "source": [
    "selected_data = selected_data[selected_data['延床面積（㎡）'] < 300]"
   ]
  },
  {
   "cell_type": "code",
   "execution_count": null,
   "metadata": {},
   "outputs": [],
   "source": [
    "# filtered_df.to_csv('../exported_data.csv', index=False, encoding='utf-8')"
   ]
  },
  {
   "cell_type": "code",
   "execution_count": null,
   "metadata": {},
   "outputs": [],
   "source": [
    "\n",
    "# selected_data = selected_data.drop('取引時期',axis=1)\n",
    "selected_data = selected_data.drop('最寄駅：名称',axis=1)"
   ]
  },
  {
   "cell_type": "code",
   "execution_count": null,
   "metadata": {},
   "outputs": [],
   "source": [
    "selected_data.to_csv('../DataSet/exported_data_masion.csv', index=False, encoding='utf-8')"
   ]
  },
  {
   "cell_type": "code",
   "execution_count": null,
   "metadata": {},
   "outputs": [],
   "source": [
    "filtered_df = pd.read_csv(\"../DATA/exported_data_house1.csv\")"
   ]
  },
  {
   "cell_type": "code",
   "execution_count": null,
   "metadata": {},
   "outputs": [],
   "source": [
    "def convert_quarter(quarter_str):\n",
    "    year = int(quarter_str[:4])\n",
    "    quarter = quarter_str[-4]\n",
    "    month = str(int(quarter) * 3)\n",
    "    return int(f\"{year}\")\n",
    "\n",
    "# 应用转换函数\n",
    "filtered_df['转换后日期'] = filtered_df['取引時期'].apply(convert_quarter)\n",
    "filtered_df.drop('取引時期',axis=1)\n",
    "filtered_df['取引時期'] = filtered_df['转换后日期']\n",
    "filtered_df = filtered_df.drop('转换后日期',axis=1)"
   ]
  },
  {
   "cell_type": "code",
   "execution_count": null,
   "metadata": {},
   "outputs": [],
   "source": [
    "df.info()"
   ]
  },
  {
   "cell_type": "code",
   "execution_count": null,
   "metadata": {},
   "outputs": [],
   "source": [
    "filtered_df = filtered_df[(filtered_df['取引価格（総額）'] > 1000000) & (filtered_df['取引価格（総額）'] <= 150000000)]"
   ]
  },
  {
   "cell_type": "code",
   "execution_count": null,
   "metadata": {},
   "outputs": [],
   "source": [
    "selected_data.to_csv('../DATA/exported_data_house1.csv',index=False, encoding='utf-8')"
   ]
  },
  {
   "cell_type": "code",
   "execution_count": null,
   "metadata": {},
   "outputs": [],
   "source": [
    "import numpy as np\n",
    "print(\"Inf values:\\n\", np.isinf(selected_data['取引価格（総額）']))"
   ]
  },
  {
   "cell_type": "code",
   "execution_count": null,
   "metadata": {},
   "outputs": [],
   "source": [
    "import pandas as pd\n",
    "selected_data = pd.read_csv(\"../DataSet/exported_data_masion.csv\")"
   ]
  },
  {
   "cell_type": "code",
   "execution_count": null,
   "metadata": {},
   "outputs": [],
   "source": [
    "filtered_df.info()"
   ]
  },
  {
   "cell_type": "code",
   "execution_count": null,
   "metadata": {},
   "outputs": [],
   "source": [
    "# 重命名重复的列名（假设重命名第一个重复的列名为 '都道府県名_1'）\n",
    "selected_data.columns = pd.Index([f\"{col}_{i}\" if selected_data.columns.duplicated()[i] else col for i, col in enumerate(selected_data.columns)])\n",
    "\n",
    "# 再次检查以确保列名唯一\n",
    "print(selected_data.columns)\n",
    "\n",
    "# 选择特定特征列并删除重复行\n",
    "df_unique = selected_data[['都道府県名', '市区町村名', '地区名', '最寄駅：名称']].drop_duplicates()\n",
    "\n",
    "# 按层级关系排序\n",
    "df_unique = df_unique.sort_values(by=['都道府県名', '市区町村名', '地区名', '最寄駅：名称'])\n",
    "\n",
    "# 重置索引\n",
    "df_unique = df_unique.reset_index(drop=True)"
   ]
  },
  {
   "cell_type": "code",
   "execution_count": null,
   "metadata": {},
   "outputs": [],
   "source": [
    "df_unique.to_csv('city_map_all.csv', index=False, encoding='utf-8')"
   ]
  },
  {
   "cell_type": "code",
   "execution_count": null,
   "metadata": {},
   "outputs": [],
   "source": [
    "for column in df.select_dtypes(include=[float, int]).columns:\n",
    "    df[column].fillna(df[column].median(), inplace=True)"
   ]
  },
  {
   "cell_type": "code",
   "execution_count": null,
   "metadata": {},
   "outputs": [],
   "source": [
    "df= df.dropna()"
   ]
  },
  {
   "cell_type": "code",
   "execution_count": null,
   "metadata": {},
   "outputs": [],
   "source": [
    "print(df.isnull().sum())\n"
   ]
  },
  {
   "cell_type": "code",
   "execution_count": null,
   "metadata": {},
   "outputs": [],
   "source": [
    "filtered_df['建築年'] = filtered_df['建築年'].str.extract('(\\d+)')\n",
    "filtered_df = filtered_df.dropna(subset=['建築年'])  # 删除 '建築年' 列中的缺失值\n",
    "filtered_df['建築年'] = filtered_df['建築年'].astype(int)"
   ]
  },
  {
   "cell_type": "code",
   "execution_count": null,
   "metadata": {},
   "outputs": [],
   "source": [
    "from datetime import datetime\n",
    "now = datetime.now().year\n",
    "filtered_df['建築年数'] = now - filtered_df['建築年']"
   ]
  },
  {
   "cell_type": "code",
   "execution_count": null,
   "metadata": {},
   "outputs": [],
   "source": [
    "filtered_df2 = filtered_df.dropna()"
   ]
  },
  {
   "cell_type": "code",
   "execution_count": null,
   "metadata": {},
   "outputs": [],
   "source": [
    "filtered_df.head()"
   ]
  },
  {
   "cell_type": "code",
   "execution_count": null,
   "metadata": {},
   "outputs": [],
   "source": [
    "print(filtered_df.isnull().sum())"
   ]
  },
  {
   "cell_type": "code",
   "execution_count": null,
   "metadata": {},
   "outputs": [],
   "source": [
    "df = pd.read_csv(\"../DataSet/city_map_all.csv\")"
   ]
  },
  {
   "cell_type": "code",
   "execution_count": null,
   "metadata": {},
   "outputs": [],
   "source": [
    "district_counts = df['地区名'].value_counts()\n",
    "district_counts_df = district_counts.reset_index()\n",
    "district_counts_df.columns = ['地区名', '出现次数']\n",
    "\n",
    "# 显示结果\n",
    "print(district_counts_df)"
   ]
  },
  {
   "cell_type": "code",
   "execution_count": null,
   "metadata": {},
   "outputs": [],
   "source": [
    "\n",
    "selected_data['地区'] = selected_data['最寄駅：名称'] +selected_data['地区名']\n",
    "\n",
    "# 删除原始字段\n",
    "selected_data.drop(['都道府県名_11', '市区町村名_12','地区名_13','都道府県名','市区町村名','地区名'], axis=1, inplace=True)\n"
   ]
  },
  {
   "cell_type": "code",
   "execution_count": null,
   "metadata": {},
   "outputs": [],
   "source": [
    "from bokeh.io import output_file, show\n",
    "from bokeh.plotting import figure\n",
    "from bokeh.tile_providers import get_provider, Vendors\n",
    "from bokeh.models import ColumnDataSource, HoverTool\n",
    "\n",
    "# 经纬度转换为墨卡托坐标系\n",
    "def wgs84_to_web_mercator(df, lon=\"longitude\", lat=\"latitude\"):\n",
    "    k = 6378137\n",
    "    df[\"x\"] = df[lon] * (k * 3.141592653589793 / 180.0)\n",
    "    df[\"y\"] = (k * np.log(np.tan((90 + df[lat]) * 3.141592653589793 / 360.0)))\n",
    "    return df\n",
    "\n",
    "# 示例数据\n",
    "data = {\n",
    "    'latitude': [35.6895, 35.6762, 35.6329],\n",
    "    'longitude': [139.6917, 139.6503, 139.8804],\n",
    "    '取引価格（総額）': [1000000, 2000000, 1500000],\n",
    "    '最寄駅：名称': ['Tokyo', 'Shibuya', 'Odaiba']\n",
    "}\n",
    "df = pd.DataFrame(data)\n",
    "df = wgs84_to_web_mercator(df)\n",
    "\n",
    "# 创建地图\n",
    "tile_provider = get_provider(Vendors.CARTODBPOSITRON)\n",
    "\n",
    "p = figure(title=\"Kanto Region Transactions\",\n",
    "           x_axis_type=\"mercator\", y_axis_type=\"mercator\",\n",
    "           x_range=(df['x'].min() - 10000, df['x'].max() + 10000), \n",
    "           y_range=(df['y'].min() - 10000, df['y'].max() + 10000),\n",
    "           tools='pan,wheel_zoom,reset')\n",
    "\n",
    "p.add_tile(tile_provider)\n",
    "\n",
    "source = ColumnDataSource(df)\n",
    "p.circle(x=\"x\", y=\"y\", size=15, fill_color=\"red\", fill_alpha=0.8, source=source)\n",
    "\n",
    "# 添加悬停工具以显示信息\n",
    "hover = HoverTool()\n",
    "hover.tooltips = [(\"駅\", \"@{最寄駅：名称}\"), (\"取引価格（総額）\", \"@{取引価格（総額）}\")]\n",
    "p.add_tools(hover)\n",
    "\n",
    "# 输出到HTML文件\n",
    "output_file(\"kanto_region_map.html\")\n",
    "show(p)\n"
   ]
  },
  {
   "cell_type": "code",
   "execution_count": null,
   "metadata": {},
   "outputs": [],
   "source": []
  }
 ],
 "metadata": {
  "kernelspec": {
   "display_name": "base",
   "language": "python",
   "name": "python3"
  },
  "language_info": {
   "codemirror_mode": {
    "name": "ipython",
    "version": 3
   },
   "file_extension": ".py",
   "mimetype": "text/x-python",
   "name": "python",
   "nbconvert_exporter": "python",
   "pygments_lexer": "ipython3",
   "version": "3.11.5"
  }
 },
 "nbformat": 4,
 "nbformat_minor": 2
}
