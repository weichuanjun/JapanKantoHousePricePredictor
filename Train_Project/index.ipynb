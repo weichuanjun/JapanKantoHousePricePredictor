{
 "cells": [
  {
   "cell_type": "code",
   "execution_count": 74,
   "metadata": {},
   "outputs": [
    {
     "name": "stderr",
     "output_type": "stream",
     "text": [
      "/var/folders/q7/54zdqqsd2k97cjf5y4lqxf_00000gn/T/ipykernel_56331/183560495.py:3: DtypeWarning: Columns (10) have mixed types. Specify dtype option on import or set low_memory=False.\n",
      "  df = pd.read_csv(\"../DATA//masion/Tokyo_20053_20234.csv\",encoding=\"cp932\",on_bad_lines='skip')\n"
     ]
    }
   ],
   "source": [
    "#公寓\n",
    "import pandas as pd\n",
    "df = pd.read_csv(\"../DATA//masion/Tokyo_20053_20234.csv\",encoding=\"cp932\",on_bad_lines='skip')\n",
    "df2 = pd.read_csv(\"../DATA/masion/Kanagawa Prefecture_20053_20234.csv\",encoding=\"cp932\",on_bad_lines='skip')\n",
    "df3 = pd.read_csv(\"../DATA/masion/Saitama Prefecture_20053_20234.csv\",encoding=\"cp932\",on_bad_lines='skip')\n",
    "df4 =pd.read_csv(\"../DATA/masion/Chiba Prefecture_20053_20234.csv\",encoding=\"cp932\",on_bad_lines='skip')\n",
    "df = pd.concat([df, df2, df3, df4], axis=0)"
   ]
  },
  {
   "cell_type": "code",
   "execution_count": 16,
   "metadata": {},
   "outputs": [],
   "source": [
    "#house\n",
    "import pandas as pd\n",
    "df = pd.read_csv(\"../DATA//house/Tokyo house price.csv\",encoding=\"cp932\",on_bad_lines='skip')\n",
    "df2 = pd.read_csv(\"../DATA/house/Kanagawa Prefecture_20053_20234.csv\",encoding=\"cp932\",on_bad_lines='skip')\n",
    "df3 = pd.read_csv(\"../DATA/house/Saitama Prefecture_20053_20234.csv\",encoding=\"cp932\",on_bad_lines='skip')\n",
    "df4 =pd.read_csv(\"../DATA/house/Chiba Prefecture_20053_20234.csv\",encoding=\"cp932\",on_bad_lines='skip')\n",
    "df = pd.concat([df, df2, df3, df4], axis=0)"
   ]
  },
  {
   "cell_type": "code",
   "execution_count": null,
   "metadata": {},
   "outputs": [],
   "source": [
    "df_avg = pd.read_csv(\"./masion_index.csv\")"
   ]
  },
  {
   "cell_type": "code",
   "execution_count": null,
   "metadata": {},
   "outputs": [],
   "source": [
    "import pandas as pd\n",
    "\n",
    "# 示例数据集，假设 df 是你的原始数据集，包含几十万条数据\n",
    "# 这里用一个小的示例数据集来表示\n",
    "# data = {\n",
    "#     '取引時期': ['2021年第1四半期', '2020年第4四半期', '2019年第3四半期'],\n",
    "#     '取引価格（総額）': [1000000, 950000, 900000]\n",
    "# }\n",
    "# df = pd.DataFrame(data)\n",
    "\n",
    "# 假设的价格指数数据集\n",
    "# index_data = {\n",
    "#     'YearQuarter': ['2021/Q1', '2020/Q4', '2019/Q3'],\n",
    "#     'Index': [105.0, 100.0, 95.0]\n",
    "# }\n",
    "# df_index = pd.DataFrame(index_data)\n",
    "\n",
    "# 定义一个函数来转换取引時期为 YearQuarter 格式\n",
    "def convert_to_year_quarter(period):\n",
    "    period = period.replace('４', '4').replace('１', '1').replace('２', '2').replace('３', '3')  # 替换全角数字\n",
    "    year, quarter = period.split('第')\n",
    "    quarter_number = {'1四半期': 'Q1', '2四半期': 'Q2', '3四半期': 'Q3', '4四半期': 'Q4'}[quarter]\n",
    "    return f\"{year.replace('年', '')}/{quarter_number}\"\n",
    "\n",
    "# 应用转换函数，将取引時期转换为 YearQuarter 格式\n",
    "df['YearQuarter'] = df['取引時期'].apply(convert_to_year_quarter)\n",
    "\n",
    "# 合并两个数据集以获取相应的价格指数\n",
    "df= pd.merge(df, df_avg, on='YearQuarter', how='left')\n",
    "\n",
    "# 获取当前季度的价格指数（假设是最新的）\n",
    "df['index'] = df_avg['Index'].iloc[-1]\n",
    "\n",
    "# 计算调整价格\n",
    "df['调整価格'] = df['取引価格（総額）'] * (192/ df['Index'])\n",
    "\n",
    "# 保留两位小数\n",
    "df['调整価格'] = df['调整価格'].round(2)\n",
    "\n",
    "# 打印前几条结果\n",
    "print(df.head())"
   ]
  },
  {
   "cell_type": "code",
   "execution_count": null,
   "metadata": {},
   "outputs": [],
   "source": [
    "import pandas as pd\n",
    "\n",
    "# # 示例数据集，假设 df 是你的原始数据集，包含几十万条数据\n",
    "# data = {\n",
    "#     '取引時期': ['2021年第1四半期', '2020年第４四半期', '2019年第3四半期', '2018年第２四半期', '2017年第1四半期'],\n",
    "#     '取引価格（総額）': [1000000, 950000, 900000, 850000, 800000]\n",
    "# }\n",
    "# df = pd.DataFrame(data)\n",
    "\n",
    "# # 假设的价格指数数据集\n",
    "# index_data = {\n",
    "#     'YearQuarter': ['2021/Q1', '2020/Q4', '2019/Q3', '2018/Q2', '2017/Q1'],\n",
    "#     'Index': [105.0, 100.0, 95.0, 90.0, 85.0]\n",
    "# }\n",
    "# df_index = pd.DataFrame(index_data)\n",
    "\n",
    "# 定义一个函数来转换取引時期为 YearQuarter 格式\n",
    "def convert_to_year_quarter(period):\n",
    "    period = period.replace('４', '4').replace('１', '1').replace('２', '2').replace('３', '3')  # 替换全角数字\n",
    "    year, quarter = period.split('第')\n",
    "    quarter_number = {'1四半期': 'Q1', '2四半期': 'Q2', '3四半期': 'Q3', '4四半期': 'Q4'}.get(quarter)\n",
    "    if not quarter_number:\n",
    "        raise ValueError(f\"无法解析的季度: {quarter}\")\n",
    "    return f\"{year.replace('年', '')}/{quarter_number}\"\n",
    "\n",
    "# 检查所有取引時期的唯一值\n",
    "unique_periods = df['取引時期'].unique()\n",
    "print(\"所有的唯一取引時期值:\", unique_periods)\n",
    "\n",
    "# 应用转换函数，将取引時期转换为 YearQuarter 格式\n",
    "df['YearQuarter'] = df['取引時期'].apply(convert_to_year_quarter)\n",
    "\n",
    "# 合并两个数据集以获取相应的价格指数\n",
    "df = pd.merge(df, df_avg, on='YearQuarter', how='right')\n",
    "\n",
    "# 获取当前季度的价格指数（假设是最新的）\n",
    "current_index = df_avg['Index'].iloc[-1]\n",
    "\n",
    "# 计算调整价格\n",
    "df['调整価格'] = df['取引価格（総額）'] * (190/ current_index )\n",
    "\n",
    "# 保留两位小数\n",
    "df['调整価格'] = df['调整価格'].round(2)\n",
    "\n",
    "# 打印前几条结果\n",
    "print(df.head())\n"
   ]
  },
  {
   "cell_type": "code",
   "execution_count": null,
   "metadata": {},
   "outputs": [],
   "source": [
    "df.head()"
   ]
  },
  {
   "cell_type": "code",
   "execution_count": null,
   "metadata": {},
   "outputs": [],
   "source": [
    "df = df.drop(\"index\",)"
   ]
  },
  {
   "cell_type": "code",
   "execution_count": null,
   "metadata": {},
   "outputs": [],
   "source": [
    "#web用masion\n",
    "selected_columns = ['最寄駅：距離（分）', '取引価格（総額）', '面積（㎡）','建築年', '建物の構造','地区名','取引時期','間取り','最寄駅：名称','index','调整価格']\n",
    "columns_order = [ '取引時期','取引価格（総額）','index','调整価格','地区名' ,'最寄駅：名称','最寄駅：距離（分）', '面積（㎡）', '建物の構造','間取り','建築年']\n",
    "filtered_df = df[columns_order]"
   ]
  },
  {
   "cell_type": "code",
   "execution_count": 75,
   "metadata": {},
   "outputs": [],
   "source": [
    "#web用masion\n",
    "selected_columns = ['最寄駅：距離（分）', '取引価格（総額）', '面積（㎡）','建築年', '建物の構造','地区名','取引時期','間取り','最寄駅：名称','index','调整価格',]\n",
    "columns_order = [ '取引時期','取引価格（総額）','地区名' ,'最寄駅：名称','最寄駅：距離（分）', '面積（㎡）', '建物の構造','間取り','建築年','改装']\n",
    "filtered_df = df[columns_order]"
   ]
  },
  {
   "cell_type": "code",
   "execution_count": 2,
   "metadata": {},
   "outputs": [],
   "source": [
    "#web-house\n",
    "#训练用\n",
    "selected_columns = ['最寄駅：距離（分）', '取引価格（総額）', '面積（㎡）','建築年', '建物の構造','地区名','取引時期','土地の形状','延床面積（㎡）']\n",
    "columns_order = [ '取引時期','取引価格（総額）','地区名','最寄駅：名称','最寄駅：距離（分）', '面積（㎡）', '延床面積（㎡）','建築年', '建物の構造']\n",
    "filtered_df = df[columns_order]"
   ]
  },
  {
   "cell_type": "code",
   "execution_count": 17,
   "metadata": {},
   "outputs": [],
   "source": [
    "#train-house\n",
    "#训练用\n",
    "selected_columns = ['最寄駅：距離（分）', '取引価格（総額）', '面積（㎡）','建築年', '建物の構造','地区名','取引時期','土地の形状','延床面積（㎡）']\n",
    "columns_order = [ '取引価格（総額）','地区名','最寄駅：名称','最寄駅：距離（分）', '面積（㎡）', '延床面積（㎡）','建築年数', '建物の構造']\n",
    "filtered_df = filtered_df[columns_order]"
   ]
  },
  {
   "cell_type": "code",
   "execution_count": null,
   "metadata": {},
   "outputs": [],
   "source": [
    "df_cleaned = filtered_df.dropna(subset=['调整価格'])"
   ]
  },
  {
   "cell_type": "code",
   "execution_count": 58,
   "metadata": {},
   "outputs": [],
   "source": [
    "#train用 masion\n",
    "selected_columns = ['最寄駅：距離（分）', '面積（㎡）','建築年', '建物の構造','地区名','間取り','最寄駅：名称','调整価格','取引時期']\n",
    "columns_order = [ '取引時期','取引価格（総額）','index','调整価格','地区名' ,'最寄駅：名称','最寄駅：距離（分）', '面積（㎡）', '建物の構造','間取り','建築年','改装']\n",
    "filtered_df = filtered_df[selected_columns]"
   ]
  },
  {
   "cell_type": "code",
   "execution_count": 18,
   "metadata": {},
   "outputs": [
    {
     "ename": "KeyError",
     "evalue": "'取引時期'",
     "output_type": "error",
     "traceback": [
      "\u001b[0;31m---------------------------------------------------------------------------\u001b[0m",
      "\u001b[0;31mKeyError\u001b[0m                                  Traceback (most recent call last)",
      "File \u001b[0;32m/opt/anaconda3/lib/python3.11/site-packages/pandas/core/indexes/base.py:3791\u001b[0m, in \u001b[0;36mIndex.get_loc\u001b[0;34m(self, key)\u001b[0m\n\u001b[1;32m   3790\u001b[0m \u001b[38;5;28;01mtry\u001b[39;00m:\n\u001b[0;32m-> 3791\u001b[0m     \u001b[38;5;28;01mreturn\u001b[39;00m \u001b[38;5;28mself\u001b[39m\u001b[38;5;241m.\u001b[39m_engine\u001b[38;5;241m.\u001b[39mget_loc(casted_key)\n\u001b[1;32m   3792\u001b[0m \u001b[38;5;28;01mexcept\u001b[39;00m \u001b[38;5;167;01mKeyError\u001b[39;00m \u001b[38;5;28;01mas\u001b[39;00m err:\n",
      "File \u001b[0;32mindex.pyx:152\u001b[0m, in \u001b[0;36mpandas._libs.index.IndexEngine.get_loc\u001b[0;34m()\u001b[0m\n",
      "File \u001b[0;32mindex.pyx:181\u001b[0m, in \u001b[0;36mpandas._libs.index.IndexEngine.get_loc\u001b[0;34m()\u001b[0m\n",
      "File \u001b[0;32mpandas/_libs/hashtable_class_helper.pxi:7080\u001b[0m, in \u001b[0;36mpandas._libs.hashtable.PyObjectHashTable.get_item\u001b[0;34m()\u001b[0m\n",
      "File \u001b[0;32mpandas/_libs/hashtable_class_helper.pxi:7088\u001b[0m, in \u001b[0;36mpandas._libs.hashtable.PyObjectHashTable.get_item\u001b[0;34m()\u001b[0m\n",
      "\u001b[0;31mKeyError\u001b[0m: '取引時期'",
      "\nThe above exception was the direct cause of the following exception:\n",
      "\u001b[0;31mKeyError\u001b[0m                                  Traceback (most recent call last)",
      "Cell \u001b[0;32mIn[18], line 8\u001b[0m\n\u001b[1;32m      5\u001b[0m     \u001b[38;5;28;01mreturn\u001b[39;00m \u001b[38;5;28mint\u001b[39m(\u001b[38;5;124mf\u001b[39m\u001b[38;5;124m\"\u001b[39m\u001b[38;5;132;01m{\u001b[39;00myear\u001b[38;5;132;01m}\u001b[39;00m\u001b[38;5;124m\"\u001b[39m)\n\u001b[1;32m      7\u001b[0m \u001b[38;5;66;03m# 应用转换函数\u001b[39;00m\n\u001b[0;32m----> 8\u001b[0m filtered_df[\u001b[38;5;124m'\u001b[39m\u001b[38;5;124m转换后日期\u001b[39m\u001b[38;5;124m'\u001b[39m] \u001b[38;5;241m=\u001b[39m filtered_df[\u001b[38;5;124m'\u001b[39m\u001b[38;5;124m取引時期\u001b[39m\u001b[38;5;124m'\u001b[39m]\u001b[38;5;241m.\u001b[39mapply(convert_quarter)\n\u001b[1;32m      9\u001b[0m filtered_df\u001b[38;5;241m.\u001b[39mdrop(\u001b[38;5;124m'\u001b[39m\u001b[38;5;124m取引時期\u001b[39m\u001b[38;5;124m'\u001b[39m,axis\u001b[38;5;241m=\u001b[39m\u001b[38;5;241m1\u001b[39m)\n\u001b[1;32m     10\u001b[0m filtered_df[\u001b[38;5;124m'\u001b[39m\u001b[38;5;124m取引時期\u001b[39m\u001b[38;5;124m'\u001b[39m] \u001b[38;5;241m=\u001b[39m filtered_df[\u001b[38;5;124m'\u001b[39m\u001b[38;5;124m转换后日期\u001b[39m\u001b[38;5;124m'\u001b[39m]\n",
      "File \u001b[0;32m/opt/anaconda3/lib/python3.11/site-packages/pandas/core/frame.py:3893\u001b[0m, in \u001b[0;36mDataFrame.__getitem__\u001b[0;34m(self, key)\u001b[0m\n\u001b[1;32m   3891\u001b[0m \u001b[38;5;28;01mif\u001b[39;00m \u001b[38;5;28mself\u001b[39m\u001b[38;5;241m.\u001b[39mcolumns\u001b[38;5;241m.\u001b[39mnlevels \u001b[38;5;241m>\u001b[39m \u001b[38;5;241m1\u001b[39m:\n\u001b[1;32m   3892\u001b[0m     \u001b[38;5;28;01mreturn\u001b[39;00m \u001b[38;5;28mself\u001b[39m\u001b[38;5;241m.\u001b[39m_getitem_multilevel(key)\n\u001b[0;32m-> 3893\u001b[0m indexer \u001b[38;5;241m=\u001b[39m \u001b[38;5;28mself\u001b[39m\u001b[38;5;241m.\u001b[39mcolumns\u001b[38;5;241m.\u001b[39mget_loc(key)\n\u001b[1;32m   3894\u001b[0m \u001b[38;5;28;01mif\u001b[39;00m is_integer(indexer):\n\u001b[1;32m   3895\u001b[0m     indexer \u001b[38;5;241m=\u001b[39m [indexer]\n",
      "File \u001b[0;32m/opt/anaconda3/lib/python3.11/site-packages/pandas/core/indexes/base.py:3798\u001b[0m, in \u001b[0;36mIndex.get_loc\u001b[0;34m(self, key)\u001b[0m\n\u001b[1;32m   3793\u001b[0m     \u001b[38;5;28;01mif\u001b[39;00m \u001b[38;5;28misinstance\u001b[39m(casted_key, \u001b[38;5;28mslice\u001b[39m) \u001b[38;5;129;01mor\u001b[39;00m (\n\u001b[1;32m   3794\u001b[0m         \u001b[38;5;28misinstance\u001b[39m(casted_key, abc\u001b[38;5;241m.\u001b[39mIterable)\n\u001b[1;32m   3795\u001b[0m         \u001b[38;5;129;01mand\u001b[39;00m \u001b[38;5;28many\u001b[39m(\u001b[38;5;28misinstance\u001b[39m(x, \u001b[38;5;28mslice\u001b[39m) \u001b[38;5;28;01mfor\u001b[39;00m x \u001b[38;5;129;01min\u001b[39;00m casted_key)\n\u001b[1;32m   3796\u001b[0m     ):\n\u001b[1;32m   3797\u001b[0m         \u001b[38;5;28;01mraise\u001b[39;00m InvalidIndexError(key)\n\u001b[0;32m-> 3798\u001b[0m     \u001b[38;5;28;01mraise\u001b[39;00m \u001b[38;5;167;01mKeyError\u001b[39;00m(key) \u001b[38;5;28;01mfrom\u001b[39;00m \u001b[38;5;21;01merr\u001b[39;00m\n\u001b[1;32m   3799\u001b[0m \u001b[38;5;28;01mexcept\u001b[39;00m \u001b[38;5;167;01mTypeError\u001b[39;00m:\n\u001b[1;32m   3800\u001b[0m     \u001b[38;5;66;03m# If we have a listlike key, _check_indexing_error will raise\u001b[39;00m\n\u001b[1;32m   3801\u001b[0m     \u001b[38;5;66;03m#  InvalidIndexError. Otherwise we fall through and re-raise\u001b[39;00m\n\u001b[1;32m   3802\u001b[0m     \u001b[38;5;66;03m#  the TypeError.\u001b[39;00m\n\u001b[1;32m   3803\u001b[0m     \u001b[38;5;28mself\u001b[39m\u001b[38;5;241m.\u001b[39m_check_indexing_error(key)\n",
      "\u001b[0;31mKeyError\u001b[0m: '取引時期'"
     ]
    }
   ],
   "source": [
    "def convert_quarter(quarter_str):\n",
    "    year = int(quarter_str[:4])\n",
    "    quarter = quarter_str[-4]\n",
    "    month = str(int(quarter) * 3)\n",
    "    return int(f\"{year}\")\n",
    "\n",
    "# 应用转换函数\n",
    "filtered_df['转换后日期'] = filtered_df['取引時期'].apply(convert_quarter)\n",
    "filtered_df.drop('取引時期',axis=1)\n",
    "filtered_df['取引時期'] = filtered_df['转换后日期']\n",
    "filtered_df = filtered_df.drop('转换后日期',axis=1)"
   ]
  },
  {
   "cell_type": "code",
   "execution_count": 77,
   "metadata": {},
   "outputs": [],
   "source": [
    "filtered_df['改装'].fillna(\"未知\", inplace=True)"
   ]
  },
  {
   "cell_type": "code",
   "execution_count": 8,
   "metadata": {},
   "outputs": [],
   "source": [
    "filtered_df['建築年'] = filtered_df['建築年'].str.extract('(\\d+)')\n",
    "filtered_df = filtered_df.dropna()\n",
    "filtered_df['建築年'] = filtered_df['建築年'].astype(int)"
   ]
  },
  {
   "cell_type": "code",
   "execution_count": 6,
   "metadata": {},
   "outputs": [],
   "source": [
    "filtered_df = filtered_df.dropna()"
   ]
  },
  {
   "cell_type": "code",
   "execution_count": 10,
   "metadata": {},
   "outputs": [],
   "source": [
    "filtered_df['建築年数'] = filtered_df['取引時期'] - filtered_df['建築年']"
   ]
  },
  {
   "cell_type": "code",
   "execution_count": 65,
   "metadata": {},
   "outputs": [],
   "source": [
    "filtered_df =filtered_df.drop('建築年',axis=1)"
   ]
  },
  {
   "cell_type": "code",
   "execution_count": 67,
   "metadata": {},
   "outputs": [],
   "source": [
    "filtered_df['调整価格'] = filtered_df['调整価格'].apply(lambda x: round(x, -5)).astype(int)"
   ]
  },
  {
   "cell_type": "code",
   "execution_count": 7,
   "metadata": {},
   "outputs": [],
   "source": [
    "distance_mapping = {\n",
    "    '30分～60分': 30,\n",
    "    '1H～1H30': 60,\n",
    "    '1H30～2H': 90,\n",
    "    '2H～': 120,\n",
    "    '2,000㎡以上': 120\n",
    "}\n",
    "\n",
    "# 将文本值映射成数字\n",
    "filtered_df['最寄駅：距離（分）'] = filtered_df['最寄駅：距離（分）'].map(lambda x: distance_mapping[x] if x in distance_mapping else int(x))\n",
    "\n",
    "# 定义映射关系\n",
    "distance_mapping = {\n",
    "    '2,000㎡以上': 2000\n",
    "}\n",
    "# 将文本值映射成数字\n",
    "filtered_df['面積（㎡）'] = filtered_df['面積（㎡）'].map(lambda x: distance_mapping[x] if x in distance_mapping else int(x))\n",
    "\n",
    "# 定义映射关系\n",
    "distance_mapping = {\n",
    "    '2,000㎡以上': 2000,\n",
    "        '10㎡未満':9\n",
    "}\n",
    "# 将文本值映射成数字\n",
    "filtered_df['延床面積（㎡）'] = filtered_df['延床面積（㎡）'].map(lambda x: distance_mapping[x] if x in distance_mapping else int(x))\n"
   ]
  },
  {
   "cell_type": "code",
   "execution_count": 82,
   "metadata": {},
   "outputs": [],
   "source": [
    "filtered_df = filtered_df[(filtered_df['取引価格（総額）'] > 100000) & (filtered_df['取引価格（総額）'] <= 200000000)]"
   ]
  },
  {
   "cell_type": "code",
   "execution_count": 71,
   "metadata": {},
   "outputs": [],
   "source": [
    "filtered_df = filtered_df[filtered_df['最寄駅：距離（分）'] < 40]"
   ]
  },
  {
   "cell_type": "code",
   "execution_count": 72,
   "metadata": {},
   "outputs": [],
   "source": [
    "filtered_df = filtered_df[filtered_df['面積（㎡）'] < 250]"
   ]
  },
  {
   "cell_type": "code",
   "execution_count": 15,
   "metadata": {},
   "outputs": [],
   "source": [
    "filtered_df.to_csv('../DataSet/exported_data_house1.csv', index=False, encoding='utf-8')"
   ]
  },
  {
   "cell_type": "code",
   "execution_count": 12,
   "metadata": {},
   "outputs": [
    {
     "name": "stdout",
     "output_type": "stream",
     "text": [
      "<class 'pandas.core.frame.DataFrame'>\n",
      "Index: 570171 entries, 0 to 193349\n",
      "Data columns (total 10 columns):\n",
      " #   Column     Non-Null Count   Dtype \n",
      "---  ------     --------------   ----- \n",
      " 0   取引時期       570171 non-null  int64 \n",
      " 1   取引価格（総額）   570171 non-null  int64 \n",
      " 2   地区名        570171 non-null  object\n",
      " 3   最寄駅：名称     570171 non-null  object\n",
      " 4   最寄駅：距離（分）  570171 non-null  int64 \n",
      " 5   面積（㎡）      570171 non-null  int64 \n",
      " 6   延床面積（㎡）    570171 non-null  int64 \n",
      " 7   建築年        570171 non-null  int64 \n",
      " 8   建物の構造      570171 non-null  object\n",
      " 9   建築年数       570171 non-null  int64 \n",
      "dtypes: int64(7), object(3)\n",
      "memory usage: 47.9+ MB\n"
     ]
    }
   ],
   "source": [
    "filtered_df.info()"
   ]
  },
  {
   "cell_type": "code",
   "execution_count": null,
   "metadata": {},
   "outputs": [],
   "source": []
  }
 ],
 "metadata": {
  "kernelspec": {
   "display_name": "base",
   "language": "python",
   "name": "python3"
  },
  "language_info": {
   "codemirror_mode": {
    "name": "ipython",
    "version": 3
   },
   "file_extension": ".py",
   "mimetype": "text/x-python",
   "name": "python",
   "nbconvert_exporter": "python",
   "pygments_lexer": "ipython3",
   "version": "3.11.5"
  }
 },
 "nbformat": 4,
 "nbformat_minor": 2
}
