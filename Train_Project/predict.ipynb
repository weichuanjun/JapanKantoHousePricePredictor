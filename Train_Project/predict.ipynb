{
 "cells": [
  {
   "cell_type": "code",
   "execution_count": 6,
   "metadata": {},
   "outputs": [
    {
     "name": "stdout",
     "output_type": "stream",
     "text": [
      "预测价格： [20239964.]\n"
     ]
    }
   ],
   "source": [
    "import pandas as pd\n",
    "import joblib\n",
    "\n",
    "loaded_preprocessor = joblib.load('./xgboost_preprocessor_masion.pkl')\n",
    "loaded_model = joblib.load('./xgboost_model_masion.pkl')\n",
    "\n",
    "new_data = pd.DataFrame({\n",
    "    '最寄駅：距離（分）': [5],\n",
    "    '面積（㎡）': [60],\n",
    "    '建物の構造': [\"RC\"],\n",
    "    '間取り': [\"２ＬＤＫ\"],\n",
    "    # '延床面積（㎡）': [60],\n",
    "    '建築年数': [44],\n",
    "    '地区名': ['綾瀬']\n",
    "})\n",
    "\n",
    "# new_data = ({'最寄駅：距離（分）': 5, '面積（㎡）': 60, '建物の構造': 'ＲＣ', '建築年数': 44, '間取り': '４ＬＤＫ', '地区名': '綾瀬'})\n",
    "\n",
    "X_test_transformed = loaded_preprocessor.transform(new_data)\n",
    "predicted_price = loaded_model.predict(X_test_transformed)\n",
    "print(\"预测价格：\", predicted_price)"
   ]
  },
  {
   "cell_type": "code",
   "execution_count": null,
   "metadata": {},
   "outputs": [],
   "source": []
  }
 ],
 "metadata": {
  "kernelspec": {
   "display_name": "base",
   "language": "python",
   "name": "python3"
  },
  "language_info": {
   "codemirror_mode": {
    "name": "ipython",
    "version": 3
   },
   "file_extension": ".py",
   "mimetype": "text/x-python",
   "name": "python",
   "nbconvert_exporter": "python",
   "pygments_lexer": "ipython3",
   "version": "3.11.5"
  }
 },
 "nbformat": 4,
 "nbformat_minor": 2
}
